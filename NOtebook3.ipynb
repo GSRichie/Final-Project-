{
 "cells": [
  {
   "cell_type": "code",
   "execution_count": 1,
   "metadata": {},
   "outputs": [],
   "source": [
    "#Importing all the libraries \n",
    "%matplotlib inline\n",
    "import pandas as pd\n",
    "import numpy as np\n",
    "import sklearn as sk\n",
    "import seaborn as sns\n",
    "import matplotlib\n",
    "import matplotlib.pyplot as plt\n",
    "\n"
   ]
  },
  {
   "cell_type": "code",
   "execution_count": null,
   "metadata": {},
   "outputs": [],
   "source": [
    "#Loading the data\n",
    "ListingsBrief = pd.read_csv(\"/Users/SinnerMan/Desktop/Final Project/Final-Project-/listingsbrief.csv\",encoding = 'utf-8')\n"
   ]
  },
  {
   "cell_type": "code",
   "execution_count": 2,
   "metadata": {},
   "outputs": [
    {
     "name": "stderr",
     "output_type": "stream",
     "text": [
      "C:\\Users\\SinnerMan\\Anaconda3\\lib\\site-packages\\IPython\\core\\interactiveshell.py:3049: DtypeWarning: Columns (61,62,95) have mixed types. Specify dtype option on import or set low_memory=False.\n",
      "  interactivity=interactivity, compiler=compiler, result=result)\n"
     ]
    }
   ],
   "source": [
    "#Loading the data\n",
    "ListingsFull = pd.read_csv(\"/Users/SinnerMan/Desktop/Final Project/Final-Project-/listingsfull.csv\",encoding = 'utf-8')"
   ]
  },
  {
   "cell_type": "code",
   "execution_count": null,
   "metadata": {},
   "outputs": [],
   "source": [
    "ListingsBrief"
   ]
  },
  {
   "cell_type": "code",
   "execution_count": null,
   "metadata": {},
   "outputs": [],
   "source": [
    "ListingsFull"
   ]
  },
  {
   "cell_type": "code",
   "execution_count": 3,
   "metadata": {},
   "outputs": [],
   "source": [
    "#Listing the original dataset\n",
    "ListingsFull=ListingsFull.set_index('id')"
   ]
  },
  {
   "cell_type": "code",
   "execution_count": null,
   "metadata": {},
   "outputs": [],
   "source": [
    "ListingsFull"
   ]
  },
  {
   "cell_type": "code",
   "execution_count": null,
   "metadata": {},
   "outputs": [],
   "source": [
    "ListingsFull.dtypes"
   ]
  },
  {
   "cell_type": "code",
   "execution_count": null,
   "metadata": {},
   "outputs": [],
   "source": [
    "ListingsFull"
   ]
  },
  {
   "cell_type": "code",
   "execution_count": null,
   "metadata": {},
   "outputs": [],
   "source": [
    "#Checking the statistics of the columns\n",
    "ListingsFull.describe().transpose()"
   ]
  },
  {
   "cell_type": "code",
   "execution_count": 4,
   "metadata": {},
   "outputs": [],
   "source": [
    "#Creating another dataframe to work on\n",
    "Listings1=ListingsFull"
   ]
  },
  {
   "cell_type": "code",
   "execution_count": null,
   "metadata": {},
   "outputs": [],
   "source": [
    "Listings1"
   ]
  },
  {
   "cell_type": "code",
   "execution_count": 5,
   "metadata": {},
   "outputs": [],
   "source": [
    "#Converting price to a float\n",
    "Listings1['price'] = Listings1['price'].str.replace('$', '')\n",
    "Listings1['price'] = Listings1['price'].str.replace(',', '').astype('float64')"
   ]
  },
  {
   "cell_type": "code",
   "execution_count": 6,
   "metadata": {},
   "outputs": [],
   "source": [
    "#Based on the above correlations and a sense test, we select the follwing features for our models\n",
    "Listings1.head()\n",
    "selected_columns = [\n",
    "                'id',\n",
    "                'host_response_rate',\n",
    "                'host_is_superhost',\n",
    "                'zipcode',\n",
    "                'property_type',\n",
    "                'room_type',\n",
    "                'accommodates',\n",
    "                'bathrooms',\n",
    "                'bedrooms',\n",
    "                'beds',\n",
    "                'bed_type',\n",
    "                'amenities',\n",
    "                'price',\n",
    "                'guests_included',\n",
    "                'review_scores_rating',\n",
    "                'review_scores_accuracy',\n",
    "                'review_scores_cleanliness',\n",
    "                'review_scores_checkin',\n",
    "                'review_scores_communication',\n",
    "                'review_scores_location',\n",
    "                'review_scores_value'\n",
    "]\n",
    "\n",
    "Listings1.drop( \n",
    "    [key for key in Listings1.keys() if key not in selected_columns] ,\n",
    "    axis=1, \n",
    "    inplace=True)"
   ]
  },
  {
   "cell_type": "code",
   "execution_count": null,
   "metadata": {},
   "outputs": [],
   "source": [
    "Listings1"
   ]
  },
  {
   "cell_type": "code",
   "execution_count": 7,
   "metadata": {},
   "outputs": [],
   "source": [
    "#Since amenities is a textual feature, and we know longer the amenities means more the amenities which should be directly correlated to the price. So calculating the length of the amenities\n",
    "Listings1.loc[:,'amenities_length'] = Listings1['amenities'].str.len()"
   ]
  },
  {
   "cell_type": "code",
   "execution_count": null,
   "metadata": {},
   "outputs": [],
   "source": [
    "Listings1"
   ]
  },
  {
   "cell_type": "code",
   "execution_count": 8,
   "metadata": {},
   "outputs": [],
   "source": [
    "#Dropping the original amenities column\n",
    "Listings1 = Listings1.drop(['amenities'], 1)"
   ]
  },
  {
   "cell_type": "code",
   "execution_count": null,
   "metadata": {},
   "outputs": [],
   "source": [
    "Listings1"
   ]
  },
  {
   "cell_type": "code",
   "execution_count": null,
   "metadata": {},
   "outputs": [],
   "source": [
    "## DEVIATIONZZZ"
   ]
  },
  {
   "cell_type": "code",
   "execution_count": 9,
   "metadata": {},
   "outputs": [],
   "source": [
    "#Converting the true/false values to binary 0/1\n",
    "Listings1['host_is_superhost'].replace('t',1, inplace=True)\n",
    "Listings1['host_is_superhost'].replace('f',0, inplace=True)"
   ]
  },
  {
   "cell_type": "code",
   "execution_count": 10,
   "metadata": {},
   "outputs": [],
   "source": [
    "#Converting acceptance/response percentages to numbers\n",
    "Listings1['host_response_rate'] = Listings1['host_response_rate'].replace('%','',regex=True).astype('float64')/100.00"
   ]
  },
  {
   "cell_type": "code",
   "execution_count": null,
   "metadata": {},
   "outputs": [],
   "source": [
    "Listings1"
   ]
  },
  {
   "cell_type": "code",
   "execution_count": 11,
   "metadata": {},
   "outputs": [
    {
     "data": {
      "text/plain": [
       "Text(0, 0.5, 'Frequency')"
      ]
     },
     "execution_count": 11,
     "metadata": {},
     "output_type": "execute_result"
    },
    {
     "data": {
      "image/png": "[encoded data removed]",
      "text/plain": [
       "<Figure size 1008x576 with 1 Axes>"
      ]
     },
     "metadata": {
      "needs_background": "light"
     },
     "output_type": "display_data"
    }
   ],
   "source": [
    "ax = Listings1['accommodates'].value_counts().plot(kind='bar',\n",
    "                                    figsize=(14,8),\n",
    "                                    title=\"Number for each Owner Name\")\n",
    "ax.set_xlabel(\"Owner Names\")\n",
    "ax.set_ylabel(\"Frequency\")"
   ]
  },
  {
   "cell_type": "code",
   "execution_count": 12,
   "metadata": {},
   "outputs": [
    {
     "data": {
      "text/plain": [
       "Text(0, 0.5, 'Frequency')"
      ]
     },
     "execution_count": 12,
     "metadata": {},
     "output_type": "execute_result"
    },
    {
     "data": {
      "image/png": "[encoded data removed]",
      "text/plain": [
       "<Figure size 1008x576 with 1 Axes>"
      ]
     },
     "metadata": {
      "needs_background": "light"
     },
     "output_type": "display_data"
    }
   ],
   "source": [
    "ax = Listings1['zipcode'].value_counts().plot(kind='bar',\n",
    "                                    figsize=(14,8),\n",
    "                                    title=\"Number for each Owner Name\")\n",
    "ax.set_xlabel(\"Owner Names\")\n",
    "ax.set_ylabel(\"Frequency\")\n",
    "\n",
    "month_jan[feature_cols].sum().sort_values(ascending=0)[:10].plot(kind='bar')"
   ]
  },
  {
   "cell_type": "code",
   "execution_count": null,
   "metadata": {},
   "outputs": [],
   "source": [
    "#Recoding property_type values \n",
    "def recode(value):\n",
    "    if value not in ['House', 'Apartment', 'Touwnhouse', 'Condominium']:\n",
    "        return 'Other'\n",
    "    return value\n",
    "\n",
    "Listings1['property_type'] = Listings1['property_type'].apply(recode)"
   ]
  },
  {
   "cell_type": "code",
   "execution_count": null,
   "metadata": {},
   "outputs": [],
   "source": [
    "#Recoding bed_type values\n",
    "def recode(value):\n",
    "    if value not in ['Real Bed']:\n",
    "        return 'Other'\n",
    "    return value\n",
    "\n",
    "Listings1['bed_type'] = Listings1['bed_type'].apply(recode)"
   ]
  },
  {
   "cell_type": "code",
   "execution_count": null,
   "metadata": {},
   "outputs": [],
   "source": [
    "Listings1"
   ]
  },
  {
   "cell_type": "code",
   "execution_count": null,
   "metadata": {},
   "outputs": [],
   "source": [
    "#Filling the empty values in the columns\n",
    "#listings_final['bathrooms'].fillna(method='ffill', inplace=True)\n",
    "#listings_final['bedrooms'].fillna(method='ffill', inplace=True)\n",
    "#listings_final['beds'].fillna(method='ffill', inplace=True)\n",
    "#listings_final['host_is_superhost'].fillna(value=0,inplace=True)\n",
    "#listings_final['host_response_rate'].fillna(value=0,inplace=True)"
   ]
  },
  {
   "cell_type": "code",
   "execution_count": null,
   "metadata": {},
   "outputs": [],
   "source": [
    "Listings1"
   ]
  },
  {
   "cell_type": "code",
   "execution_count": null,
   "metadata": {},
   "outputs": [],
   "source": [
    "Listings1.isna().sum()"
   ]
  },
  {
   "cell_type": "code",
   "execution_count": null,
   "metadata": {},
   "outputs": [],
   "source": [
    "#Creating distribution charts for all the numbered features\n",
    "numerics = ['int16', 'int32', 'int64', 'float16', 'float32', 'float64']\n",
    "numdf = Listings1.select_dtypes(include=numerics)\n",
    "numdf = numdf.dropna(axis=0, how='any')\n",
    "numdf_variables = list(numdf)\n",
    "\n",
    "graphs = len(numdf_variables)-1\n",
    "\n",
    "position = []\n",
    "for i in range(6):\n",
    "    for j in range(3):\n",
    "        b = i,j\n",
    "        position.append(b)\n",
    "        \n",
    "fig, axes = plt.subplots(nrows=6, ncols=3, sharey=False, sharex=False, figsize=(12,20))\n",
    "fig.subplots_adjust(hspace=.5)\n",
    "\n",
    "for i in range(graphs):\n",
    "    sns.distplot(numdf[numdf_variables[i]], ax=axes[position[i]], kde=False)"
   ]
  },
  {
   "cell_type": "code",
   "execution_count": null,
   "metadata": {},
   "outputs": [],
   "source": [
    "Listings1"
   ]
  },
  {
   "cell_type": "code",
   "execution_count": null,
   "metadata": {},
   "outputs": [],
   "source": [
    "# Histogram by Type of Crime\n",
    "sb.set()\n",
    "plt.figure(figsize=(10,5))\n",
    "plt.title('Number of Crimes in Toronto by Type (2014-2017)', fontsize = 14, fontweight = 'bold')\n",
    "plt.xlabel('Major Crime Indicator', fontweight = 'bold')\n",
    "plt.ylabel('Number of Crimes (2014-2017)', fontweight = 'bold')\n",
    "plt.hist(crime_type_list)\n",
    "\n",
    "# Save figure and show it\n",
    "plt.savefig('Number of Crimes in Toronto by Type (2014-2017)')\n",
    "plt.show()"
   ]
  }
 ],
 "metadata": {
  "kernelspec": {
   "display_name": "Python 3",
   "language": "python",
   "name": "python3"
  },
  "language_info": {
   "codemirror_mode": {
    "name": "ipython",
    "version": 3
   },
   "file_extension": ".py",
   "mimetype": "text/x-python",
   "name": "python",
   "nbconvert_exporter": "python",
   "pygments_lexer": "ipython3",
   "version": "3.7.3"
  }
 },
 "nbformat": 4,
 "nbformat_minor": 2
}
